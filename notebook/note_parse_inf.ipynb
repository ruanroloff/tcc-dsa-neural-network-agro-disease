{
 "cells": [
  {
   "cell_type": "code",
   "execution_count": 1,
   "id": "7dd2ac38-a927-49a7-9be7-3e7788bf810a",
   "metadata": {},
   "outputs": [
    {
     "name": "stderr",
     "output_type": "stream",
     "text": [
      "/home/ec2-user/anaconda3/envs/python3/lib/python3.10/site-packages/pandas/core/computation/expressions.py:21: UserWarning: Pandas requires version '2.8.4' or newer of 'numexpr' (version '2.7.3' currently installed).\n",
      "  from pandas.core.computation.check import NUMEXPR_INSTALLED\n"
     ]
    }
   ],
   "source": [
    "import re\n",
    "import pandas as pd\n",
    "\n",
    "def parse_logs(text: str) -> pd.DataFrame:\n",
    "    \"\"\"\n",
    "    Parse raw log text into a pandas DataFrame.\n",
    "    \"\"\"\n",
    "    # Split entries by delimiter\n",
    "    entries = text.strip().split(\"-------###-------\")\n",
    "    data = []\n",
    "    \n",
    "    for entry in entries:\n",
    "        entry = entry.strip()\n",
    "        if not entry:\n",
    "            continue\n",
    "        \n",
    "        # Extract IMG\n",
    "        img_match = re.search(r\"IMG:\\s*(.*)\", entry)\n",
    "        img = img_match.group(1) if img_match else None\n",
    "        \n",
    "        # Extract Predicted Class and Confidence\n",
    "        pred_match = re.search(r\"Predicted Class:\\s*(.*?)\\s*\\(([\\d.]+)\\s*confidence\\)\", entry)\n",
    "        pred_class = pred_match.group(1) if pred_match else None\n",
    "        confidence = float(pred_match.group(2)) if pred_match else None\n",
    "        \n",
    "        # Extract probabilities\n",
    "        probs = {}\n",
    "        prob_matches = re.findall(r\"(Tomato___[A-Za-z_]+):\\s*([\\d.]+)\", entry)\n",
    "        for cls, val in prob_matches:\n",
    "            probs[cls.strip()] = float(val.strip())\n",
    "        \n",
    "        row = {\n",
    "            \"Image\": img,\n",
    "            \"Predicted_Class\": pred_class,\n",
    "            \"Confidence\": confidence,\n",
    "            **probs\n",
    "        }\n",
    "        data.append(row)\n",
    "    \n",
    "    return pd.DataFrame(data)\n",
    "\n",
    "\n",
    "def main():\n",
    "    # Example: from a text string (copy-paste logs directly)\n",
    "    log_text = \"\"\"\n",
    "    -------###-------\n",
    "    IMG: a7782a03-c8c5-459a-af4c-fbca70cea302___RS_Erly.B 8303.JPG\n",
    "    1/1 [==============================] - 0s 66ms/step\n",
    "    Predicted Class: Tomato___Early_blight (0.96 confidence)\n",
    "    All Class Probabilities:\n",
    "      Tomato___Bacterial_spot: 0.00\n",
    "      Tomato___Early_blight: 0.96\n",
    "      Tomato___Late_blight: 0.04\n",
    "      Tomato___Septoria_leaf_spot: 0.00\n",
    "      Tomato___healthy: 0.00\n",
    "                     \n",
    "    -------###-------\n",
    "    IMG: 0bb52721-51a6-4343-8c54-de15cedf8e5c___RS_Erly.B 7572.JPG\n",
    "    1/1 [==============================] - 0s 68ms/step\n",
    "    Predicted Class: Tomato___Early_blight (1.00 confidence)\n",
    "    All Class Probabilities:\n",
    "      Tomato___Bacterial_spot: 0.00\n",
    "      Tomato___Early_blight: 1.00\n",
    "      Tomato___Late_blight: 0.00\n",
    "      Tomato___Septoria_leaf_spot: 0.00\n",
    "      Tomato___healthy: 0.00\n",
    "    \"\"\"\n",
    "\n",
    "    # Parse string logs\n",
    "    df = parse_logs(log_text)\n",
    "    \n",
    "    # Show as table\n",
    "    print(df.to_string(index=False))\n",
    "    \n",
    "    # Optionally save as CSV\n",
    "    df.to_csv(\"/home/ec2-user/SageMaker/tmp/parsed_predictions.csv\", index=False)\n",
    "    print(\"\\n✅ Data saved to parsed_predictions.csv\")"
   ]
  },
  {
   "cell_type": "code",
   "execution_count": 2,
   "id": "025da03c-96a9-4ecd-95ff-a15392d21598",
   "metadata": {},
   "outputs": [
    {
     "name": "stdout",
     "output_type": "stream",
     "text": [
      "                                                    Image       Predicted_Class  Confidence  Tomato___Bacterial_spot  Tomato___Early_blight  Tomato___Late_blight  Tomato___Septoria_leaf_spot  Tomato___healthy\n",
      "a7782a03-c8c5-459a-af4c-fbca70cea302___RS_Erly.B 8303.JPG Tomato___Early_blight        0.96                      0.0                   0.96                  0.04                          0.0               0.0\n",
      "0bb52721-51a6-4343-8c54-de15cedf8e5c___RS_Erly.B 7572.JPG Tomato___Early_blight        1.00                      0.0                   1.00                  0.00                          0.0               0.0\n",
      "\n",
      "✅ Data saved to parsed_predictions.csv\n"
     ]
    }
   ],
   "source": [
    "if __name__ == \"__main__\":\n",
    "    main()"
   ]
  },
  {
   "cell_type": "code",
   "execution_count": null,
   "id": "cf7ddff8-1a3e-4878-aa92-1f7f9b981ec4",
   "metadata": {},
   "outputs": [],
   "source": []
  }
 ],
 "metadata": {
  "kernelspec": {
   "display_name": "conda_python3",
   "language": "python",
   "name": "conda_python3"
  },
  "language_info": {
   "codemirror_mode": {
    "name": "ipython",
    "version": 3
   },
   "file_extension": ".py",
   "mimetype": "text/x-python",
   "name": "python",
   "nbconvert_exporter": "python",
   "pygments_lexer": "ipython3",
   "version": "3.10.18"
  }
 },
 "nbformat": 4,
 "nbformat_minor": 5
}
