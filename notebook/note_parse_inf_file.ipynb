{
 "cells": [
  {
   "cell_type": "code",
   "execution_count": 1,
   "id": "7dd2ac38-a927-49a7-9be7-3e7788bf810a",
   "metadata": {},
   "outputs": [
    {
     "name": "stderr",
     "output_type": "stream",
     "text": [
      "/home/ec2-user/anaconda3/envs/python3/lib/python3.10/site-packages/pandas/core/computation/expressions.py:21: UserWarning: Pandas requires version '2.8.4' or newer of 'numexpr' (version '2.7.3' currently installed).\n",
      "  from pandas.core.computation.check import NUMEXPR_INSTALLED\n"
     ]
    }
   ],
   "source": [
    "import re\n",
    "import pandas as pd"
   ]
  },
  {
   "cell_type": "code",
   "execution_count": 2,
   "id": "d2a73a60-4adc-4ee7-8ee0-107ff384a6ce",
   "metadata": {},
   "outputs": [],
   "source": [
    "def parse_log_file(file_path):\n",
    "    with open(file_path, \"r\") as f:\n",
    "        content = f.read()\n",
    "\n",
    "    # Split entries by delimiter\n",
    "    entries = content.strip().split(\"-------###-------\")\n",
    "    \n",
    "    data = []\n",
    "    \n",
    "    for entry in entries:\n",
    "        entry = entry.strip()\n",
    "        if not entry:\n",
    "            continue\n",
    "        \n",
    "        # Extract IMG\n",
    "        img_match = re.search(r\"IMG:\\s*(.*)\", entry)\n",
    "        img = img_match.group(1) if img_match else None\n",
    "        \n",
    "        # Extract Predicted Class and Confidence\n",
    "        pred_match = re.search(r\"Predicted Class:\\s*(.*?)\\s*\\(([\\d.]+)\\s*confidence\\)\", entry)\n",
    "        pred_class = pred_match.group(1) if pred_match else None\n",
    "        confidence = float(pred_match.group(2)) if pred_match else None\n",
    "        \n",
    "        # Extract probabilities\n",
    "        probs = {}\n",
    "        prob_matches = re.findall(r\"Tomato___\\w+: [\\d.]+\", entry)\n",
    "        for pm in prob_matches:\n",
    "            cls, val = pm.split(\":\")\n",
    "            probs[cls.strip()] = float(val.strip())\n",
    "        \n",
    "        row = {\n",
    "            \"Image\": img,\n",
    "            \"Predicted_Class\": pred_class,\n",
    "            \"Confidence\": confidence,\n",
    "            **probs\n",
    "        }\n",
    "        data.append(row)\n",
    "    \n",
    "    df = pd.DataFrame(data)\n",
    "    return df\n"
   ]
  },
  {
   "cell_type": "code",
   "execution_count": 7,
   "id": "025da03c-96a9-4ecd-95ff-a15392d21598",
   "metadata": {},
   "outputs": [
    {
     "name": "stdout",
     "output_type": "stream",
     "text": [
      "done\n"
     ]
    }
   ],
   "source": [
    "if __name__ == \"__main__\":\n",
    "    #file_path = \"/home/ec2-user/SageMaker/tmp/tomato_predictions.txt\" \n",
    "    file_path = \"/home/ec2-user/SageMaker/tmp/pred_sep.txt\" \n",
    "    df = parse_log_file(file_path)\n",
    "    #print(df.to_string(index=False))\n",
    "    \n",
    "    # Optionally save as CSV\n",
    "    #df.to_csv(\"/home/ec2-user/SageMaker/tmp/parsed_predictions2.csv\", index=False)\n",
    "    df.to_csv(\"/home/ec2-user/SageMaker/tmp/parsed_sep.csv\", index=False)\n",
    "    print('done')"
   ]
  },
  {
   "cell_type": "code",
   "execution_count": null,
   "id": "cf7ddff8-1a3e-4878-aa92-1f7f9b981ec4",
   "metadata": {},
   "outputs": [],
   "source": []
  }
 ],
 "metadata": {
  "kernelspec": {
   "display_name": "conda_python3",
   "language": "python",
   "name": "conda_python3"
  },
  "language_info": {
   "codemirror_mode": {
    "name": "ipython",
    "version": 3
   },
   "file_extension": ".py",
   "mimetype": "text/x-python",
   "name": "python",
   "nbconvert_exporter": "python",
   "pygments_lexer": "ipython3",
   "version": "3.10.18"
  }
 },
 "nbformat": 4,
 "nbformat_minor": 5
}
