{
 "cells": [
  {
   "cell_type": "code",
   "execution_count": null,
   "id": "fb46b332-bea4-4081-898b-26b0ef761392",
   "metadata": {},
   "outputs": [],
   "source": [
    "import sagemaker\n",
    "from sagemaker.tensorflow import TensorFlow\n",
    "\n",
    "# Create a SageMaker session and get the IAM execution role for SageMaker\n",
    "sagemaker_session = sagemaker.Session()\n",
    "role = sagemaker.get_execution_role()\n",
    "\n",
    "# Define the S3 bucket name and prefix for data storage\n",
    "bucket_name = 'datalake-nessie-agro'\n",
    "s3_prefix = 'raw/agro/tomato/'\n",
    "#s3_prefix = 'raw/agro/potato/' #for potatoes\n",
    "\n",
    "# Create a TensorFlow estimator secifying parameters such as the entry point script, instance type, framework version\n",
    "estimator = TensorFlow(\n",
    "    entry_point='train.py',\n",
    "    role=role,\n",
    "    instance_count=1,\n",
    "    instance_type='ml.m5.4xlarge',\n",
    "    framework_version='2.12',\n",
    "    py_version='py310',\n",
    "    script_mode=True,\n",
    "    hyperparameters={\n",
    "        'image_size': 224,\n",
    "        'batch_size': 64,\n",
    "        'epochs': 22\n",
    "    },\n",
    "    output_path=f's3://{bucket_name}/output/',\n",
    "    model_dir='/opt/ml/model',\n",
    "    code_location=f's3://{bucket_name}/jobs/',\n",
    "    dependencies=['../requirements.txt']\n",
    ")\n",
    "\n",
    "# Start the training job providing the S3 paths for the training and validation\n",
    "estimator.fit({\n",
    "    'train': f's3://{bucket_name}/{s3_prefix}train/',\n",
    "    'validation': f's3://{bucket_name}/{s3_prefix}val/',\n",
    "})"
   ]
  },
  {
   "cell_type": "code",
   "execution_count": null,
   "id": "421dfe09-b969-49a2-a7ba-4b4da5040470",
   "metadata": {},
   "outputs": [],
   "source": []
  },
  {
   "cell_type": "code",
   "execution_count": null,
   "id": "1ca97c7f-4fab-489e-aa0b-bedee0b95341",
   "metadata": {},
   "outputs": [],
   "source": [
    "#machines\n",
    "#ml.m5.8xlarge - não tem\n",
    "#ml.m5.12xlarge\n",
    "#ml.m5.2xlarge\n",
    "#ml.m5.4xlarge\n",
    "#ml.p3.2xlarge"
   ]
  }
 ],
 "metadata": {
  "kernelspec": {
   "display_name": "conda_tensorflow2_p310",
   "language": "python",
   "name": "conda_tensorflow2_p310"
  },
  "language_info": {
   "codemirror_mode": {
    "name": "ipython",
    "version": 3
   },
   "file_extension": ".py",
   "mimetype": "text/x-python",
   "name": "python",
   "nbconvert_exporter": "python",
   "pygments_lexer": "ipython3",
   "version": "3.10.18"
  }
 },
 "nbformat": 4,
 "nbformat_minor": 5
}
