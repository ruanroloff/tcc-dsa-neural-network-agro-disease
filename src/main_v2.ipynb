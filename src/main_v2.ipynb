{
 "cells": [
  {
   "cell_type": "code",
   "execution_count": null,
   "id": "fb46b332-bea4-4081-898b-26b0ef761392",
   "metadata": {},
   "outputs": [],
   "source": [
    "import sagemaker\n",
    "from sagemaker.tensorflow import TensorFlow\n",
    "\n",
    "sagemaker_session = sagemaker.Session()\n",
    "role = sagemaker.get_execution_role()\n",
    "\n",
    "bucket_name = 'datalake-nessie-agro'\n",
    "s3_prefix = 'raw/agro/potato/'\n",
    "\n",
    "estimator = TensorFlow(\n",
    "    entry_point='train_v2.py',\n",
    "    role=role,\n",
    "    instance_count=1,\n",
    "    instance_type='ml.m5.2xlarge',\n",
    "    framework_version='2.12',\n",
    "    py_version='py310',\n",
    "    script_mode=True,\n",
    "    hyperparameters={\n",
    "        'image_size': 224,\n",
    "        'batch_size': 64,\n",
    "        'epochs': 22\n",
    "    },\n",
    "    output_path=f's3://{bucket_name}/output/',\n",
    "    model_dir='/opt/ml/model',\n",
    "    code_location=f's3://{bucket_name}/jobs/'\n",
    "    #dependencies=['../requirements.txt']\n",
    ")\n",
    "\n",
    "estimator.fit({\n",
    "    'train': f's3://{bucket_name}/{s3_prefix}train/',\n",
    "    'validation': f's3://{bucket_name}/{s3_prefix}val/',\n",
    "})"
   ]
  },
  {
   "cell_type": "code",
   "execution_count": null,
   "id": "1ca97c7f-4fab-489e-aa0b-bedee0b95341",
   "metadata": {},
   "outputs": [],
   "source": []
  }
 ],
 "metadata": {
  "kernelspec": {
   "display_name": "conda_tensorflow2_p310",
   "language": "python",
   "name": "conda_tensorflow2_p310"
  },
  "language_info": {
   "codemirror_mode": {
    "name": "ipython",
    "version": 3
   },
   "file_extension": ".py",
   "mimetype": "text/x-python",
   "name": "python",
   "nbconvert_exporter": "python",
   "pygments_lexer": "ipython3",
   "version": "3.10.18"
  }
 },
 "nbformat": 4,
 "nbformat_minor": 5
}
